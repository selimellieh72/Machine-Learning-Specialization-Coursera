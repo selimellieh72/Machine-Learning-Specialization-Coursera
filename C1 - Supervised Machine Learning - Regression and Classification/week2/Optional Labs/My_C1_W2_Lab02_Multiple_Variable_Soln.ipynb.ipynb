{
 "cells": [
  {
   "cell_type": "markdown",
   "id": "356c4cbc-dec3-42bd-a660-9c5454e58271",
   "metadata": {},
   "source": [
    "# Optional Lab: Multiple Variable Linear Regression"
   ]
  },
  {
   "cell_type": "markdown",
   "id": "8bfd956f-ebaf-47d5-a0d1-440b4f55b169",
   "metadata": {},
   "source": [
    "## Goals\n",
    "- Rewrite data structures to support multiple features\n",
    "- Rewrite prediction, cost and gradient to support multiple features"
   ]
  },
  {
   "cell_type": "markdown",
   "id": "c7b3afa9-ea93-427b-be0e-feabd9135e3c",
   "metadata": {},
   "source": [
    "## Tools\n",
    "- NumPy: A popular Data Science Library\n",
    "- Matplotlib: A popular library for plotting data"
   ]
  },
  {
   "cell_type": "code",
   "execution_count": 1,
   "id": "5819d0ae-710f-4f1f-a351-6105166e3363",
   "metadata": {},
   "outputs": [],
   "source": [
    "import copy, math # Copy and math will be needed later\n",
    "import numpy as np\n",
    "import matplotlib.pyplot as plt\n",
    "plt.style.use('./deeplearning.mplstyle')\n",
    "np.set_printoptions(precision=2) # reduced display precision to two decimal places on numpy arrays"
   ]
  },
  {
   "cell_type": "markdown",
   "id": "fab0d2db-d8bd-4f60-bb6d-effc8405d061",
   "metadata": {},
   "source": [
    "## Problem Statement\n",
    "We will use housing price prediction. The training data set contain three examples with four features (size, bedrooms, floor, age). Unlike earlier labs, size is in sqft rather than 1000 sqft, this will cause issue we will solve in later labs with normalization."
   ]
  },
  {
   "cell_type": "markdown",
   "id": "256eab3d-6cd2-4f0d-a92c-b78570c1a585",
   "metadata": {},
   "source": [
    "| Size (sqft) | Number of bedrooms | Number of floors | Age of home | Price (1000s dollars)|\n",
    "|-------------|--------------------|------------------|-------------|----------------------|\n",
    "|2104         |5                   |1                 |45           |460                   |\n",
    "|1416         |3                   |2                 |40           |232                   |\n",
    "|852          |2                   |1                 |35           |178                   |"
   ]
  },
  {
   "cell_type": "markdown",
   "id": "e670d395-db76-41cc-84e9-22ef8766896b",
   "metadata": {},
   "source": [
    "The model will learn from the training data, so we develop a model $f_{w,b}$ to predict the price of other houses not found in the training set."
   ]
  },
  {
   "cell_type": "markdown",
   "id": "7aca7d4c-964e-46f3-87f9-21c601a39bfb",
   "metadata": {},
   "source": [
    "### Declaring and initializing training examples\n",
    "In NumPy, we will represent the training data set with a matrix `X_train` of dimensions (m,n) where m is the number of training examples and n is the number of features. `Y_train` is a vector that will include the target values, so of dimension (m,) where m is the number of training examples."
   ]
  },
  {
   "cell_type": "code",
   "execution_count": 2,
   "id": "ea9b8854-f659-4141-8c3c-89147a908714",
   "metadata": {},
   "outputs": [
    {
     "name": "stdout",
     "output_type": "stream",
     "text": [
      "X shape = (3, 4), X type = <class 'numpy.ndarray'>\n",
      "[[2104    5    1   45]\n",
      " [1416    3    2   40]\n",
      " [ 852    2    1   35]]\n",
      "y shape = (3,), y type = <class 'numpy.ndarray'>\n",
      "[460 232 178]\n"
     ]
    }
   ],
   "source": [
    "X_train = np.array([\n",
    "    [2104, 5, 1, 45],\n",
    "    [1416, 3, 2, 40],\n",
    "    [852, 2, 1, 35]\n",
    "])\n",
    "y_train = np.array([460, 232, 178])\n",
    "# To know our training set, we can discover the shapes and the values\n",
    "print(f\"X shape = {X_train.shape}, X type = {type(X_train)}\")\n",
    "print(X_train)\n",
    "print(f\"y shape = {y_train.shape}, y type = {type(y_train)}\")\n",
    "print(y_train)"
   ]
  },
  {
   "cell_type": "markdown",
   "id": "410a31f5-615e-444f-ab95-45397a480fa3",
   "metadata": {},
   "source": [
    "### Initial model parameters values\n",
    "Recall that `w` is now a vector of length `n` for parameters for each feature, and `b` is still a number. `w` and `b` will be initialized to values near the optimal."
   ]
  },
  {
   "cell_type": "code",
   "execution_count": 3,
   "id": "cccb7ffe-d649-4af8-bd85-aaf05eda4b81",
   "metadata": {},
   "outputs": [
    {
     "name": "stdout",
     "output_type": "stream",
     "text": [
      "w_init shape = (4,), b type = <class 'float'>\n"
     ]
    }
   ],
   "source": [
    "w_init = np.array([0.39133535, 18.75376741, -53.36032453, -26.42131618]) # w_init is of length n\n",
    "b_init = 785.1811367994083 # b_init is a number\n",
    "print(f\"w_init shape = {w_init.shape}, b type = {type(b_init)}\")"
   ]
  },
  {
   "cell_type": "markdown",
   "id": "65d2687e-ebfa-4b2c-8784-c797ad2b50f5",
   "metadata": {},
   "source": [
    "### Model prediction with multiple variable\n",
    "The model's prediction for multiple variables parameterized by $\\vec{w}$ and $b$ is given by:\n",
    "$$f_{w,b}(x)=\\vec{w}.\\vec{x}+b$$\n",
    "where $\\vec{w}.\\vec{x}$ is the dot product defined by $$\\vec{w}.\\vec{x} = w_1 \\times x_1 + w_2 \\times x_2 + \\dots + w_n \\times x_n$$\n",
    "We will implement the prediction, in a for-loop way using `predict_single_loop(x,w,b)` and in a much faster and shorter vectorized way `predict(x,w,b)`."
   ]
  },
  {
   "cell_type": "code",
   "execution_count": 4,
   "id": "1bf8e3c1-9c43-4628-b73c-8c8d9d25d2bd",
   "metadata": {},
   "outputs": [],
   "source": [
    "def predict_single_loop(x,w,b):\n",
    "    \"\"\"\n",
    "    single predict using linear regression\n",
    "    with a for loop\n",
    "\n",
    "    Args:\n",
    "        x (ndarray (n,)): example with multiple features of length n\n",
    "        w (ndarray (n,)): model weights for each feature of length n\n",
    "        b (scalar): model bias\n",
    "\n",
    "    Returns:\n",
    "        f_wb (scalar): prediction\n",
    "    \"\"\"\n",
    "    n = x.shape[0]\n",
    "    f_wb = 0\n",
    "    for i in range(n):\n",
    "        f_wb = f_wb + w[i] * x[i]\n",
    "    f_wb = f_wb + b\n",
    "    return f_wb\n",
    "    "
   ]
  },
  {
   "cell_type": "code",
   "execution_count": 5,
   "id": "1b180e8a-08e5-421d-ab29-dd188ba3b5fe",
   "metadata": {},
   "outputs": [
    {
     "name": "stdout",
     "output_type": "stream",
     "text": [
      "x_vec shape = (4,), x_vec value = [2104    5    1   45]\n",
      "f_wb shape = (), prediction f_wb = 459.9999976194083\n"
     ]
    }
   ],
   "source": [
    "# get a row from training data\n",
    "x_vec = X_train[0, :]\n",
    "print(f\"x_vec shape = {x_vec.shape}, x_vec value = {x_vec}\")\n",
    "\n",
    "# make a prediction\n",
    "f_wb = predict_single_loop(x_vec, w_init, b_init)\n",
    "print(f\"f_wb shape = {f_wb.shape}, prediction f_wb = {f_wb}\")"
   ]
  },
  {
   "cell_type": "code",
   "execution_count": 6,
   "id": "80168c15-0774-4b12-bffa-18d81ef7676e",
   "metadata": {},
   "outputs": [],
   "source": [
    "def predict(x,w,b):\n",
    "    \"\"\"\n",
    "    single predict vectorized\n",
    "    using liner regression\n",
    "\n",
    "    Args:\n",
    "        x (ndarray (n,)): example with multiple features of length n\n",
    "        w (ndarray (n,)): model weights for each feature of length n\n",
    "        b (scalar): model bias\n",
    "\n",
    "    Returns:\n",
    "        f_wb (scalar): prediction\n",
    "    \"\"\"\n",
    "    return np.dot(x,w) + b\n",
    "    "
   ]
  },
  {
   "cell_type": "code",
   "execution_count": 7,
   "id": "76db78f5-38f5-47ce-89e2-eaae1c1b32b6",
   "metadata": {},
   "outputs": [
    {
     "name": "stdout",
     "output_type": "stream",
     "text": [
      "x_vec shape = (4,), x_vec value = [2104    5    1   45]\n",
      "f_wb shape = (), prediction f_wb = 459.9999976194083\n"
     ]
    }
   ],
   "source": [
    "# get a row from training data\n",
    "x_vec = X_train[0, :]\n",
    "print(f\"x_vec shape = {x_vec.shape}, x_vec value = {x_vec}\")\n",
    "\n",
    "# make a prediction\n",
    "f_wb = predict_single_loop(x_vec, w_init, b_init)\n",
    "print(f\"f_wb shape = {f_wb.shape}, prediction f_wb = {f_wb}\")"
   ]
  },
  {
   "cell_type": "markdown",
   "id": "1e4b52ac-bbf9-4e48-adae-8e194f664fc9",
   "metadata": {},
   "source": [
    "Notice that we get the shapes and results with two versions. Since the predict vectorized is too short, most functions will implement it on spot rather than calling a seperate function."
   ]
  },
  {
   "cell_type": "markdown",
   "id": "3cbf469b-c3e5-4630-ac79-c3b15aa49bb7",
   "metadata": {},
   "source": [
    "### Cost function\n",
    "Recall that the cost function $J(\\vec{w}, b)$ is defined as:\n",
    "$$ J(\\vec{w}, b) = \\frac{1}{2m} \\sum_{i=0}^{m-1}(f_{\\vec w, b}(\\vec {x^i})-y^i)^2$$\n",
    "where \n",
    "$$f_{w,b}(x^i)=\\vec{w}.\\vec{x^i}+b$$"
   ]
  },
  {
   "cell_type": "markdown",
   "id": "c6163ff0-97d8-48ca-bf4e-c8129d561a3d",
   "metadata": {},
   "source": [
    "`compute_cost(X,y,w,b)` will compute the cost in Python. `compute_cost_vectorized(X,y,w,b)` is a vectorized version."
   ]
  },
  {
   "cell_type": "code",
   "execution_count": 8,
   "id": "412261c2-da42-4a91-af2f-5a513270afbb",
   "metadata": {},
   "outputs": [],
   "source": [
    "def compute_cost(X, y, w, b):\n",
    "    \"\"\"\n",
    "    Compute the mean squared error cost function.\n",
    "\n",
    "    Args:\n",
    "        X (ndarray (m,n)): Training data, m examples with n features\n",
    "        y (ndarray (m,)): target values\n",
    "        w (ndarray (n,)): model weights for n features\n",
    "        b (scalar): model bias\n",
    "\n",
    "    Returns:\n",
    "        cost (scalar): mean squared error cost for training data (X,y) and with w, b\n",
    "    \"\"\"\n",
    "    m = X.shape[0]\n",
    "    cost = 0.0\n",
    "\n",
    "    for i in range(m):\n",
    "        f_wb_i = np.dot(X[i], w) + b # scalar\n",
    "        cost = cost + (f_wb_i - y[i]) ** 2 # scalar\n",
    "    cost = cost  / (2*m) # scalar\n",
    "    return cost\n",
    "    \n",
    "    "
   ]
  },
  {
   "cell_type": "code",
   "execution_count": 38,
   "id": "1c98c2ac-c9ad-463c-89cd-07b6607a3ce7",
   "metadata": {},
   "outputs": [
    {
     "name": "stdout",
     "output_type": "stream",
     "text": [
      "Cost at initial parameters = 1.5578904045996674e-12\n"
     ]
    }
   ],
   "source": [
    "cost = compute_cost(X_train, y_train, w_init, b_init)\n",
    "print(f\"Cost at initial parameters = {cost}\")|"
   ]
  },
  {
   "cell_type": "code",
   "execution_count": 9,
   "id": "53b253b3-181d-468f-acb9-a74b614d72b7",
   "metadata": {},
   "outputs": [],
   "source": [
    "def compute_cost_vectorized(X, y, w, b):\n",
    "    \"\"\"\n",
    "    Compute the mean squared error cost function\n",
    "    in a vectorized manner.\n",
    "\n",
    "    Args:\n",
    "        X (ndarray (m,n)): Training data, m examples with n features\n",
    "        y (ndarray (m,)): target values\n",
    "        w (ndarray (n,)): model weights for n features\n",
    "        b (scalar): model bias\n",
    "\n",
    "    Returns:\n",
    "        cost (scalar): mean squared error cost for training data (X,y) and with w, b\n",
    "    \"\"\"\n",
    "    m = X.shape[0]\n",
    "\n",
    "    f_wb = np.dot(X, w) + b\n",
    "    cost = np.sum((f_wb - y) ** 2) / (2*m)\n",
    "    return cost\n",
    "    \n",
    "    "
   ]
  },
  {
   "cell_type": "code",
   "execution_count": 10,
   "id": "cc12fb2f-c3a0-461d-ae57-b7691d0bce69",
   "metadata": {},
   "outputs": [
    {
     "name": "stdout",
     "output_type": "stream",
     "text": [
      "Cost at initial parameters = 1.5578903428073909e-12\n"
     ]
    }
   ],
   "source": [
    "cost = compute_cost_vectorized(X_train, y_train, w_init, b_init)\n",
    "print(f\"Cost at initial parameters = {cost}\")"
   ]
  },
  {
   "cell_type": "markdown",
   "id": "88a2f57e-0719-458c-bc8e-2c161e4aa458",
   "metadata": {},
   "source": [
    "### Compute partial derivative for each variable\n",
    "We will compute the partial derivative for each variable, later used by gradient descent using a `compute_gradient(X,y,w,b)` function, and according to the following:\n",
    "$$ \\frac{\\partial J(\\vec{w}, b)}{w_j} = \\frac{1}{m} \\sum_{i=0}^{m-1}(f_{\\vec{w}, b}(\\vec{x^i})-y^i) \\times x_j^i$$\n",
    "$$ \\frac{\\partial J(\\vec{w}, b)}{b} = \\frac{1}{m} \\sum_{i=0}^{m-1}(f_{\\vec{w}, b}(\\vec{x^i})-y^i)$$"
   ]
  },
  {
   "cell_type": "code",
   "execution_count": 11,
   "id": "36580d06-b3f2-476f-83f5-4df7795f2b68",
   "metadata": {},
   "outputs": [],
   "source": [
    "def compute_gradient(X, y, w, b):\n",
    "    \"\"\"\n",
    "    Computes the gradient for linear regression.\n",
    "    Args:\n",
    "        X (ndarray (m,n)): Training data m examples with n features\n",
    "        y (ndarray (m,)): m targets\n",
    "        w (ndarray (n,)): model weights for n features\n",
    "        b (scalar): model parameter\n",
    "    Returns:\n",
    "        dj_dw (ndarray (n,)): The gradient of the cost with respect to parameter w_j\n",
    "        dj_db (scalar): The gradient of the cost with respect to parameter b\n",
    "        \n",
    "    \"\"\"\n",
    "\n",
    "    m, n = X.shape  # (number of examples, number of features)\n",
    "    dj_dw = np.zeros((n,))\n",
    "    dj_db = 0.\n",
    "\n",
    "    for i in range(m):\n",
    "        f_wb_i = np.dot(X[i], w) + b\n",
    "        err = f_wb_i - y[i]\n",
    "        for j in range(n):\n",
    "            dj_dw[j] = dj_dw[j] +  (err * X[i, j])\n",
    "        dj_db = dj_db + err\n",
    "    dj_dw = dj_dw / m\n",
    "    dj_db = dj_db / m\n",
    "\n",
    "    return dj_dw, dj_db"
   ]
  },
  {
   "cell_type": "code",
   "execution_count": 12,
   "id": "00072f0a-bf7b-4df2-aa18-dc3693dd4b18",
   "metadata": {},
   "outputs": [
    {
     "name": "stdout",
     "output_type": "stream",
     "text": [
      "dj_db at initial w, b: -1.6739251122999121e-06\n",
      "dj_dw at initial w,b: \n",
      "[-2.73e-03 -6.27e-06 -2.22e-06 -6.92e-05]\n"
     ]
    }
   ],
   "source": [
    "# Compute and display gradient\n",
    "tmp_dj_dw, tmp_dj_db = compute_gradient(X_train, y_train, w_init, b_init)\n",
    "print(f\"dj_db at initial w, b: {tmp_dj_db}\")\n",
    "print(f\"dj_dw at initial w,b: \\n{tmp_dj_dw}\")"
   ]
  },
  {
   "cell_type": "code",
   "execution_count": 13,
   "id": "50bee05a-a3a8-493e-964f-2602b7206953",
   "metadata": {},
   "outputs": [],
   "source": [
    "def compute_gradient_vectorized(X, y, w, b):\n",
    "    \"\"\"\n",
    "    Computes the gradient for linear regression,\n",
    "    in a vectorized manner.\n",
    "    Args:\n",
    "        X (ndarray (m,n)): Training data m examples with n features\n",
    "        y (ndarray (m,)): m targets\n",
    "        w (ndarray (n,)): model weights for n features\n",
    "        b (scalar): model parameter\n",
    "    Returns:\n",
    "        dj_dw (ndarray (n,)): The gradient of the cost with respect to parameter w_j\n",
    "        dj_db (scalar): The gradient of the cost with respect to parameter b\n",
    "        \n",
    "    \"\"\"\n",
    "\n",
    "    m, n = X.shape  # (number of examples, number of features)\n",
    "    f_wb = np.dot(X, w) + b\n",
    "    err = f_wb - y\n",
    "    dj_dw = np.dot(X.T, err) / (m)\n",
    "    dj_db = np.sum(err) / (m)\n",
    "    return dj_dw, dj_db"
   ]
  },
  {
   "cell_type": "code",
   "execution_count": 14,
   "id": "2076764f-55ff-4c0c-bd89-fa4ec1fc8094",
   "metadata": {},
   "outputs": [
    {
     "name": "stdout",
     "output_type": "stream",
     "text": [
      "dj_db at initial w, b: -1.6739250744042995e-06\n",
      "dj_dw at initial w,b: \n",
      "[-2.73e-03 -6.27e-06 -2.22e-06 -6.92e-05]\n"
     ]
    }
   ],
   "source": [
    "# Compute and display gradient\n",
    "tmp_dj_dw, tmp_dj_db = compute_gradient_vectorized(X_train, y_train, w_init, b_init)\n",
    "print(f\"dj_db at initial w, b: {tmp_dj_db}\")\n",
    "print(f\"dj_dw at initial w,b: \\n{tmp_dj_dw}\")"
   ]
  },
  {
   "cell_type": "markdown",
   "id": "729542d0-b4ac-4852-a901-0c416a2c3d71",
   "metadata": {},
   "source": [
    "### Gradient Descent\n",
    "We will implement gradient descent with `gradient_descent(X, y, w_in, b_in, cost_function, gradient_function, alpha, num_iters)`."
   ]
  },
  {
   "cell_type": "code",
   "execution_count": 16,
   "id": "33b029dc-3523-4487-8697-e0532850a7af",
   "metadata": {},
   "outputs": [],
   "source": [
    "def gradient_descent(X, y, w_in, b_in, cost_function, gradient_function, alpha, num_iters):\n",
    "    \"\"\"\n",
    "    Performs gradient descent to learn w, and b using\n",
    "    learning rate `alpha` and `num_iters` iterations.\n",
    "\n",
    "    Args:\n",
    "        X (ndarray (m,n)): Data, m examples with n features\n",
    "        y (ndarray (m,)): target values\n",
    "        w_in (ndarray (n,)): intiial model weights for n features\n",
    "        b_in (scalar): initial model bias\n",
    "        cost_function (function): function to compute cost\n",
    "        gradient_function (function): function to compute gradients\n",
    "        alpha (float): learning rate\n",
    "        num_iters (int): number of iterations to run gradient descent\n",
    "\n",
    "    Returns:\n",
    "        w (ndarray (n,)): updated value for model weights\n",
    "        b (scalar): updaated value for model bias\n",
    "    \"\"\"\n",
    "    # List to store cost function J primarly for plotting\n",
    "    J_history = []\n",
    "    w = copy.deepcopy(w_in) # avoid modifying global w\n",
    "    b = b_in\n",
    "\n",
    "    for i in range(num_iters):\n",
    "        # Calculate gradient and update parameters\n",
    "        dj_dw, dj_db = gradient_function(X, y, w, b)\n",
    "\n",
    "        w = w - alpha * dj_dw\n",
    "        b = b - alpha * dj_db\n",
    "\n",
    "        # Save cost J at each iteration and prevent exhaustion\n",
    "        if i < 100000:\n",
    "            J_history.append(cost_function(X, y, w, b))\n",
    "\n",
    "        # Print cost at interval of 10 or as many iterations if i < 10\n",
    "        if i % math.ceil(num_iters / 10) == 0:\n",
    "            print(f\"Iteration {i:4d}: Cost {J_history[-1]:8.2f}\")\n",
    "    return w, b, J_history"
   ]
  },
  {
   "cell_type": "code",
   "execution_count": 20,
   "id": "26525715-8ed3-4c06-9473-af5cb226cc0f",
   "metadata": {},
   "outputs": [
    {
     "name": "stdout",
     "output_type": "stream",
     "text": [
      "Iteration    0: Cost  2529.46\n",
      "Iteration  100: Cost   695.99\n",
      "Iteration  200: Cost   694.92\n",
      "Iteration  300: Cost   693.86\n",
      "Iteration  400: Cost   692.81\n",
      "Iteration  500: Cost   691.77\n",
      "Iteration  600: Cost   690.73\n",
      "Iteration  700: Cost   689.71\n",
      "Iteration  800: Cost   688.70\n",
      "Iteration  900: Cost   687.69\n",
      "b, w found by gradient descent: -0.00, [ 0.2   0.   -0.01 -0.07]\n",
      "prediction =  426.185304971892, target value = 460\n",
      "prediction =  286.1674720078562, target value = 232\n",
      "prediction =  171.46763087132314, target value = 178\n"
     ]
    }
   ],
   "source": [
    "# initialize parameters\n",
    "initial_w = np.zeros_like(w_init)\n",
    "initial_b = np.zeros_like(b_init)\n",
    "# some gradient descent settings\n",
    "iterations = 1000\n",
    "alpha = 5.0e-7\n",
    "# run gradient descent\n",
    "w_final, b_final, J_hist = gradient_descent(X_train, y_train, initial_w, initial_b, compute_cost_vectorized, compute_gradient_vectorized, alpha, iterations)\n",
    "print(f\"b, w found by gradient descent: {b_final:0.2f}, {w_final}\")\n",
    "m = X_train.shape[0]\n",
    "for i in range(m):\n",
    "    print(f\"prediction =  {np.dot(X_train[i,], w_final) + b_final}, target value = {y_train[i]}\")"
   ]
  },
  {
   "cell_type": "code",
   "execution_count": 29,
   "id": "1f0a9b26-7691-4611-b868-309f6fc3a168",
   "metadata": {},
   "outputs": [
    {
     "data": {
      "image/png": "[encoded data removed]",
      "text/plain": [
       "<Figure size 1200x400 with 2 Axes>"
      ]
     },
     "metadata": {},
     "output_type": "display_data"
    }
   ],
   "source": [
    "# plot cost versus iteration\n",
    "fig, (ax1, ax2) = plt.subplots(1, 2, constrained_layout=True, figsize=(12,4))\n",
    "ax1.plot(J_hist)\n",
    "ax2.plot(100 + np.arange(len(J_hist[100:])), J_hist[100:])\n",
    "ax1.set_title(\"Cost vs iteration\")\n",
    "ax1.set_xlabel(\"iteration step\")\n",
    "ax1.set_ylabel(\"cost\")\n",
    "ax2.set_title(\"Cost vs iteration (tail)\")\n",
    "ax2.set_xlabel(\"iteration step\")\n",
    "ax2.set_ylabel(\"cost\")\n",
    "plt.show()"
   ]
  },
  {
   "cell_type": "markdown",
   "id": "24a5e3f0-0e2d-44b7-a9f1-94518083e23a",
   "metadata": {},
   "source": [
    "*Results are not inspiring, cost still decreasing and prediction away from target values, we'll see later how to fix this*"
   ]
  },
  {
   "cell_type": "code",
   "execution_count": 28,
   "id": "48ab6845-7093-4ad0-8dc3-845eea0817ed",
   "metadata": {},
   "outputs": [],
   "source": [
    "### End!"
   ]
  },
  {
   "cell_type": "code",
   "execution_count": null,
   "id": "4bfd1f0f-cd08-4835-9edf-070ae4f19012",
   "metadata": {},
   "outputs": [],
   "source": []
  }
 ],
 "metadata": {
  "kernelspec": {
   "display_name": "Python 3 (ipykernel)",
   "language": "python",
   "name": "python3"
  },
  "language_info": {
   "codemirror_mode": {
    "name": "ipython",
    "version": 3
   },
   "file_extension": ".py",
   "mimetype": "text/x-python",
   "name": "python",
   "nbconvert_exporter": "python",
   "pygments_lexer": "ipython3",
   "version": "3.11.5"
  }
 },
 "nbformat": 4,
 "nbformat_minor": 5
}
