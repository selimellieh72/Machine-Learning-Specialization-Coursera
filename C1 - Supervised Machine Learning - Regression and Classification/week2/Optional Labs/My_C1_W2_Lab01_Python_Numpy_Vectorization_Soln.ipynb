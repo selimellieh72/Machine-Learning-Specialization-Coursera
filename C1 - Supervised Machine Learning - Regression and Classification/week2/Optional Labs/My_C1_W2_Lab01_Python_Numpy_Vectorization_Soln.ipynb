{
 "cells": [
  {
   "cell_type": "markdown",
   "id": "ceda0091-c84e-40b2-9cb1-c97ad5374f86",
   "metadata": {},
   "source": [
    "# Optional Lab: Python, Numpy, Vectorization"
   ]
  },
  {
   "cell_type": "markdown",
   "id": "f56338b5-afab-4524-a4c7-c32a48c91cb5",
   "metadata": {},
   "source": [
    "## Goals\n",
    "- Crash course for NumPy and vectorization"
   ]
  },
  {
   "cell_type": "markdown",
   "id": "2d2869ec-151d-4976-8223-4cf8a1bbe2bd",
   "metadata": {},
   "source": [
    "## Tools\n",
    "- NumPy: a popular data science library\n",
    "- time: a builtin python library to measure time"
   ]
  },
  {
   "cell_type": "code",
   "execution_count": 1,
   "id": "c49fb170-adad-457e-ad2c-ebc6836d0bc1",
   "metadata": {},
   "outputs": [],
   "source": [
    "import numpy as np\n",
    "import time"
   ]
  },
  {
   "cell_type": "markdown",
   "id": "729299ee-467e-45ab-a55a-cee488480af2",
   "metadata": {},
   "source": [
    "## NumPy\n",
    "NumPy is a library that extends the base capabilities of Python to add a richer data set including more numeric types, vector, matrices, and many matrix functions. NumPy and Python work together fairly seamlessly. Python operators work on NumPy data types, and NumPy functions often can accept Python built-in data types. "
   ]
  },
  {
   "cell_type": "markdown",
   "id": "68495f99-523d-4318-a8b0-611be75fe699",
   "metadata": {},
   "source": [
    "## Vectors\n",
    "Vectors are ordered array of numbers of the same type. We use bold letters to note a vector (i.e $\\mathbf{x}$). The dimension of a vector is the number of elements in the array, typically denoted by $n$. In NumPy, the basic data structure is an indexable, n-dimensional array (where dimensions mean the number of entries in the array in this context) containing elements of the same type that can be accessed by `dtype`. Vectors can thus be represented as 1d-array and indexed from `0` to `n-1`."
   ]
  },
  {
   "cell_type": "code",
   "execution_count": 11,
   "id": "367215ac-de5f-437a-b0c3-9832dba7e297",
   "metadata": {},
   "outputs": [
    {
     "name": "stdout",
     "output_type": "stream",
     "text": [
      "np.zeros(4): a = [0. 0. 0. 0.], a shape = (4,), a data type = float64\n",
      "np.zeros((4,)): a = [0. 0. 0. 0.], a shape = (4,), a data type = float64\n",
      "np.random.random_sample(4): a = [0.60307233 0.52077608 0.11420784 0.83325203], a shape = (4,), a data type = float64\n"
     ]
    }
   ],
   "source": [
    "# Numpy functions which allocate memory and fill arrays with values\n",
    "a = np.zeros(4) # Give the shape as n, so vector dimension 4\n",
    "print(f\"np.zeros(4): a = {a}, a shape = {a.shape}, a data type = {a.dtype}\")\n",
    "a = np.zeros((4,)) # Can also give dimension in this tuple format\n",
    "print(f\"np.zeros((4,)): a = {a}, a shape = {a.shape}, a data type = {a.dtype}\")\n",
    "a = np.random.random_sample(4) # Fill array with 4 random numbers between 0 and 1\n",
    "print(f\"np.random.random_sample(4): a = {a}, a shape = {a.shape}, a data type = {a.dtype}\")"
   ]
  },
  {
   "cell_type": "code",
   "execution_count": 20,
   "id": "7a1c5842-0903-41e8-885c-f71c062d5936",
   "metadata": {},
   "outputs": [
    {
     "name": "stdout",
     "output_type": "stream",
     "text": [
      "np.arange(4.): a = [0. 1. 2. 3.], a shape = (4,), a data type = float64\n",
      "np.random.rand(4.): a = [0.85634924 0.03584002 0.24521609 0.73932412], a shape = (4,), a data type = float64\n"
     ]
    }
   ],
   "source": [
    "# These functions do not take a shape argument\n",
    "a = np.arange(4.) # Fill array with 4 numbers, like range(4) in Python\n",
    "print(f\"np.arange(4.): a = {a}, a shape = {a.shape}, a data type = {a.dtype}\")\n",
    "a = np.random.rand(4)\n",
    "print(f\"np.random.rand(4.): a = {a}, a shape = {a.shape}, a data type = {a.dtype}\") # Another way to fill with 4 random numbers"
   ]
  },
  {
   "cell_type": "code",
   "execution_count": 22,
   "id": "7725f9e2-f161-401e-8b5d-03a357f2e2f4",
   "metadata": {},
   "outputs": [
    {
     "name": "stdout",
     "output_type": "stream",
     "text": [
      "np.array([5,4,3,2]): a = [5 4 3 2], a shape = (4,), a data type = int64\n",
      "np.array([5.,4,3,2]): a = [5. 4. 3. 2.], a shape = (4,), a data type = float64\n"
     ]
    }
   ],
   "source": [
    "# To specify value of array manually\n",
    "a = np.array([5,4,3,2])\n",
    "print(f\"np.array([5,4,3,2]): a = {a}, a shape = {a.shape}, a data type = {a.dtype}\")\n",
    "a = np.array([5.,4,3,2])\n",
    "print(f\"np.array([5.,4,3,2]): a = {a}, a shape = {a.shape}, a data type = {a.dtype}\")"
   ]
  },
  {
   "cell_type": "markdown",
   "id": "85fe4348-0b32-4baa-9cb6-ab10e9c3fad3",
   "metadata": {},
   "source": [
    "## Vectors: Indexing\n",
    "Recall that the index starts at 0, like in Python"
   ]
  },
  {
   "cell_type": "code",
   "execution_count": 33,
   "id": "1304bde3-2979-4bae-bbee-aa2a8281bd1e",
   "metadata": {},
   "outputs": [
    {
     "name": "stdout",
     "output_type": "stream",
     "text": [
      "[0 1 2 3 4 5 6 7 8 9]\n",
      "a[2].shape = () a[2] = 2, Accessing an element returns a scalar\n",
      "a[-1] = 9\n",
      "The error message you will see is:\n",
      "index 10 is out of bounds for axis 0 with size 10\n"
     ]
    }
   ],
   "source": [
    "# indexing operations on 1d arrays\n",
    "a = np.arange(10)\n",
    "print(a)\n",
    "\n",
    "# Access an element\n",
    "print(f\"a[2].shape = {a[2].shape} a[2] = {a[2]}, Accessing an element returns a scalar\")\n",
    "\n",
    "# access the last element using negative indices\n",
    "print(f\"a[-1] = {a[-1]}\")\n",
    "\n",
    "# Beware to stay in range!\n",
    "try:\n",
    "    c = a[10]\n",
    "except Exception as e:\n",
    "    print(\"The error message you will see is:\")\n",
    "    print(e)"
   ]
  },
  {
   "cell_type": "markdown",
   "id": "c0ac8f1f-5ff2-4410-b6f1-55c3922e6f97",
   "metadata": {},
   "source": [
    "## Vectors: Slicing\n",
    "We can slice vectors to get subarrays, using `[start:stop:step]`"
   ]
  },
  {
   "cell_type": "code",
   "execution_count": 45,
   "id": "6c710a4f-d368-4a5f-8476-2a9c9f2d9717",
   "metadata": {},
   "outputs": [
    {
     "name": "stdout",
     "output_type": "stream",
     "text": [
      "a[2:7:1] = [2 3 4 5 6]\n",
      "a[2:7:2] = [2 4 6]\n",
      "a[3:] = [3 4 5 6 7 8 9]\n",
      "a[:3] = [0 1 2]\n",
      "a[:] =  [0 1 2 3 4 5 6 7 8 9]\n"
     ]
    }
   ],
   "source": [
    "# Vector slicing operations\n",
    "a = np.arange(10)\n",
    "\n",
    "# access 5 consecutive elements from index 2 to 6\n",
    "c = a[2:7:1]\n",
    "print(\"a[2:7:1] =\", c)\n",
    "\n",
    "# access 3 elements seperated: 2 4 6\n",
    "c = a[2:7:2]\n",
    "print(\"a[2:7:2] =\", c)\n",
    "# access all elements index 3 and above\n",
    "c = a[3:]\n",
    "print(\"a[3:] =\", c)\n",
    "# Access all elements below index 3, up-to index 2\n",
    "c = a[:3]\n",
    "print(\"a[:3] =\", c)\n",
    "# Access all elements\n",
    "c = a[:]\n",
    "print(\"a[:] = \", c)"
   ]
  },
  {
   "cell_type": "markdown",
   "id": "7ef2b7eb-e695-42b9-938a-f1d1b9d40d70",
   "metadata": {},
   "source": [
    "## Single vector operations\n",
    "These are operations on a single vector."
   ]
  },
  {
   "cell_type": "code",
   "execution_count": 51,
   "id": "0d9724be-2e05-4bac-99fb-42fb98b5dbbd",
   "metadata": {},
   "outputs": [
    {
     "name": "stdout",
     "output_type": "stream",
     "text": [
      "a = [1 2 3 4]\n",
      "b = -a: [-1 -2 -3 -4]\n",
      "b = np.sum(a): 10\n",
      "b = np.mean(a): 2.5\n",
      "b = a ** 2: [ 1  4  9 16]\n"
     ]
    }
   ],
   "source": [
    "# Single vector operations\n",
    "a = np.array([1,2,3,4])\n",
    "print(f\"a = {a}\")\n",
    "# Negate all elements of a\n",
    "b = - a\n",
    "print(f\"b = -a: {b}\")\n",
    "# Sum all elements of a, return a scalar\n",
    "b = np.sum(a)\n",
    "print(f\"b = np.sum(a): {b}\")\n",
    "# Average of the elements of a\n",
    "b = np.mean(a)\n",
    "print(f\"b = np.mean(a): {b}\")\n",
    "# Square all elements of a\n",
    "b = a ** 2\n",
    "print(f\"b = a ** 2: {b}\")"
   ]
  },
  {
   "cell_type": "markdown",
   "id": "6a257353-bf43-4c25-9ff4-dea9c7803d9d",
   "metadata": {},
   "source": [
    "## Vector-vector element wise operations\n",
    "Arithmetic, logical, and comparison operators between two vectors work on an element by element basis."
   ]
  },
  {
   "cell_type": "code",
   "execution_count": 54,
   "id": "e0b765ce-268e-4d03-85e1-e3bb2e025614",
   "metadata": {},
   "outputs": [
    {
     "name": "stdout",
     "output_type": "stream",
     "text": [
      "Binary operators work element wise: [0 0 6 8]\n"
     ]
    }
   ],
   "source": [
    "a = np.array([1, 2, 3, 4])\n",
    "b = np.array([-1, -2, 3, 4])\n",
    "print(f\"Binary operators work element wise: {a+b}\")"
   ]
  },
  {
   "cell_type": "markdown",
   "id": "59fa1f17-6542-4259-af53-181f0e19fcb7",
   "metadata": {},
   "source": [
    "Make sure vectors are of the same size, or exception might occure."
   ]
  },
  {
   "cell_type": "code",
   "execution_count": 55,
   "id": "11485e72-726f-4cd5-8991-0ecaac673ba1",
   "metadata": {},
   "outputs": [
    {
     "name": "stdout",
     "output_type": "stream",
     "text": [
      "The error message you'll see:\n",
      "operands could not be broadcast together with shapes (4,) (2,) \n"
     ]
    }
   ],
   "source": [
    "# mismatched vector operation\n",
    "c = np.array([1,2])\n",
    "try:\n",
    "    d = a + c\n",
    "except Exception as e:\n",
    "    print(\"The error message you'll see:\")\n",
    "    print(e)"
   ]
  },
  {
   "cell_type": "markdown",
   "id": "a3500a16-9317-4d85-beac-4071f00a1b1a",
   "metadata": {},
   "source": [
    "Vectors can be *scaled*, by numbers or scalars."
   ]
  },
  {
   "cell_type": "code",
   "execution_count": 57,
   "id": "26eb1cec-b740-45a3-abf6-468e27fff187",
   "metadata": {},
   "outputs": [
    {
     "name": "stdout",
     "output_type": "stream",
     "text": [
      "b = 5 * a: [ 5 10 15 20]\n"
     ]
    }
   ],
   "source": [
    "a = np.array([1, 2, 3, 4])\n",
    "\n",
    "# multiply by a scalar\n",
    "b = 5 * a\n",
    "print(f\"b = 5 * a: {b}\")"
   ]
  },
  {
   "cell_type": "markdown",
   "id": "24fcd0f7-f069-4524-97ab-90c1087cf815",
   "metadata": {},
   "source": [
    "## Vector-vector dot product\n",
    "We'll implement the dot product in a for loop, and using vectorization, then we'll compare both approaches."
   ]
  },
  {
   "cell_type": "code",
   "execution_count": 63,
   "id": "8fd8ac9e-06dc-4b47-9076-28c16e2f1bad",
   "metadata": {},
   "outputs": [],
   "source": [
    "def my_dot(a,b):\n",
    "    \"\"\"\n",
    "    Compute the dot product of two vectors\n",
    "    Args:\n",
    "        a (ndarray (n,)): input vector\n",
    "        b (ndarray (n,)): input vector with same dimension as a\n",
    "    Returns:\n",
    "        x (scalar): dot product\n",
    "    \"\"\"\n",
    "    n = a.shape[0]\n",
    "    x = 0\n",
    "    for i in range(n):\n",
    "        x = x + a[i] * b[i]\n",
    "    return x"
   ]
  },
  {
   "cell_type": "code",
   "execution_count": 66,
   "id": "5b7022fb-fbde-4b06-811a-eaed94417713",
   "metadata": {},
   "outputs": [
    {
     "name": "stdout",
     "output_type": "stream",
     "text": [
      "my_dot(a,b) = 24\n"
     ]
    }
   ],
   "source": [
    "# Test with my_dot\n",
    "a = np.array([1, 2, 3, 4])\n",
    "b = np.array([-1, 4, 3, 2])\n",
    "print(f\"my_dot(a,b) = {my_dot(a,b)}\")"
   ]
  },
  {
   "cell_type": "code",
   "execution_count": 70,
   "id": "7b4ee24e-77f1-467b-be68-cf992d9f2d38",
   "metadata": {},
   "outputs": [
    {
     "name": "stdout",
     "output_type": "stream",
     "text": [
      "np.dot(a,b) = 24, np.dot(a,b).shape = ()\n",
      "np.dot(b,a) = 24, np.dot(a,b).shape = ()\n"
     ]
    }
   ],
   "source": [
    "# Test with np.dot\n",
    "a = np.array([1, 2, 3, 4])\n",
    "b = np.array([-1, 4, 3, 2])\n",
    "c = np.dot(a,b)\n",
    "print(f\"np.dot(a,b) = {c}, np.dot(a,b).shape = {c.shape}\") # Shape is empty tuple because np.dots returns scalar\n",
    "c = np.dot(b,a)\n",
    "print(f\"np.dot(b,a) = {c}, np.dot(a,b).shape = {c.shape}\") # a.b = b.a"
   ]
  },
  {
   "cell_type": "code",
   "execution_count": 85,
   "id": "403f0a5b-06ef-4820-8412-46e52e7f794d",
   "metadata": {},
   "outputs": [
    {
     "name": "stdout",
     "output_type": "stream",
     "text": [
      "np.dot(a,b) = 25000669.8073\n",
      "Vectorized version duration: 0.0675 s\n",
      "my_dot(a,b) = 25000669.8073\n",
      "loop version duration: 13.3759 s\n"
     ]
    }
   ],
   "source": [
    "np.random.seed(1) # Get reproducable random numbers\n",
    "# Large arrays\n",
    "a = np.random.rand(100000000)\n",
    "b = np.random.rand(100000000)\n",
    "\n",
    "tic = time.time() # start time\n",
    "c = np.dot(a,b)\n",
    "toc = time.time() # end time\n",
    "\n",
    "print(f\"np.dot(a,b) = {c:.4f}\")\n",
    "print(f\"Vectorized version duration: { (toc - tic):.4f} ms\")\n",
    "\n",
    "tic = time.time() # start time\n",
    "c = my_dot(a,b)\n",
    "toc = time.time() # end time\n",
    "\n",
    "print(f\"my_dot(a,b) = {c:.4f}\")\n",
    "print(f\"loop version duration: { (toc - tic):.4f} ms\")\n",
    "\n",
    "# Delete the big arrays from memory\n",
    "del(a)\n",
    "del(b)"
   ]
  },
  {
   "cell_type": "markdown",
   "id": "0e1c9df8-57e9-4f7d-84dd-744bed77cc8e",
   "metadata": {},
   "source": [
    "A common example of vectorization would be calculating the prediction for a training example from X_train."
   ]
  },
  {
   "cell_type": "code",
   "execution_count": 97,
   "id": "f7218fb5-629b-4ffb-b9e2-fdef31095813",
   "metadata": {},
   "outputs": [
    {
     "name": "stdout",
     "output_type": "stream",
     "text": [
      "X_train[1] has shape (2,)\n",
      "w has shape (2,)\n",
      "f_wb has shape ()\n"
     ]
    }
   ],
   "source": [
    "X_train = np.array([[1,2], [3,4], [5,6]])\n",
    "w = np.array([2, 4])\n",
    "b = 5\n",
    "f_wb = np.dot(w, X_train[1]) + b\n",
    " \n",
    "print(f\"X_train[1] has shape {X_train[1].shape}\")\n",
    "print(f\"w has shape {w.shape}\")\n",
    "print(f\"f_wb has shape {f_wb.shape}\")"
   ]
  },
  {
   "cell_type": "markdown",
   "id": "29223f63-1eb4-428b-9a05-ef81b26fe407",
   "metadata": {},
   "source": [
    "## Matrices\n",
    "Matrices are two dimensional arrays of the same type. They are referenced using capital bold letters such as $\\mathbf{X}$. We denote by $m$ the number of rows (In machine learning they may refer to the training examples), and $n$ number of columns (they may refer to the number of features). In NumPy matrices have a 2d index `[m,n]` and are zero-indexed."
   ]
  },
  {
   "cell_type": "code",
   "execution_count": 101,
   "id": "7631085a-60f8-4c38-8794-6c2b106fb1a7",
   "metadata": {},
   "outputs": [
    {
     "name": "stdout",
     "output_type": "stream",
     "text": [
      "a shape = (1, 5), a = [[0. 0. 0. 0. 0.]]\n",
      "a shape = (2, 1), a = [[0.]\n",
      " [0.]]\n",
      "a shape = (1, 1), a = [[0.11907518]]\n"
     ]
    }
   ],
   "source": [
    "# Same functions that create 1d vectors can create matrices or any ndarray\n",
    "a = np.zeros((1, 5))\n",
    "print(f\"a shape = {a.shape}, a = {a}\")\n",
    "a = np.zeros((2, 1))\n",
    "print(f\"a shape = {a.shape}, a = {a}\")\n",
    "a = np.random.random_sample((1, 1))\n",
    "print(f\"a shape = {a.shape}, a = {a}\")"
   ]
  },
  {
   "cell_type": "code",
   "execution_count": 103,
   "id": "4955afd2-2df7-436c-96c5-b80d87e2a43b",
   "metadata": {},
   "outputs": [
    {
     "name": "stdout",
     "output_type": "stream",
     "text": [
      "a shape = (3, 1), a = [[5]\n",
      " [4]\n",
      " [3]]\n",
      "a shape = (3, 1), a = [[5]\n",
      " [4]\n",
      " [3]]\n"
     ]
    }
   ],
   "source": [
    "# We can also manually specify the 2d array\n",
    "a = np.array([ [5], [4], [3] ])\n",
    "print(f\"a shape = {a.shape}, a = {a}\")\n",
    "a = np.array([[5],\n",
    "              [4],\n",
    "              [3]]) # or with appropriate formating\n",
    "print(f\"a shape = {a.shape}, a = {a}\")"
   ]
  },
  {
   "cell_type": "markdown",
   "id": "b8aa2ff4-ea0b-41f3-b004-2a00cfa5c544",
   "metadata": {},
   "source": [
    "## Matrices: Indexing"
   ]
  },
  {
   "cell_type": "code",
   "execution_count": 114,
   "id": "d4803f4e-b538-44b3-96af-f913c9f96696",
   "metadata": {},
   "outputs": [
    {
     "name": "stdout",
     "output_type": "stream",
     "text": [
      "a.shape = (3, 2), \n",
      "a=[[0 1]\n",
      " [2 3]\n",
      " [4 5]]\n",
      "a[2,0].shape = (), a[2,0] = 4, type(a[2, 0]) = <class 'numpy.int64'>, Accessing an element returns a scalar\n",
      "a[2].shape = (2,), a[2] = [4 5], type(a[2]) = <class 'numpy.ndarray'>\n"
     ]
    }
   ],
   "source": [
    "# Indexing operations on matrices\n",
    "\n",
    "# reshape is a convenient way to create matrices\n",
    "a = np.arange(6).reshape(-1, 2) # reshape(m,n) with n = 2 (two columns) and -1 is a place holder (figure it out)\n",
    "print(f\"a.shape = {a.shape}, \\na={a}\")\n",
    "\n",
    "# access an element\n",
    "print(f\"a[2,0].shape = {a[2,0].shape}, a[2,0] = {a[2,0]}, type(a[2, 0]) = {type(a[2,0])}, Accessing an element returns a scalar\")\n",
    "\n",
    "# access a row\n",
    "print(f\"a[2].shape = {a[2].shape}, a[2] = {a[2]}, type(a[2]) = {type(a[2])}\")"
   ]
  },
  {
   "cell_type": "markdown",
   "id": "17b94324-b420-4b84-b319-818d1b9d5255",
   "metadata": {},
   "source": [
    "## Matrices slicing\n",
    "We can use slicing to get a subset of the 2d array, using `[start:stop:step,start:stop:step]`."
   ]
  },
  {
   "cell_type": "code",
   "execution_count": 127,
   "id": "37940620-b5fd-4477-a8a1-c4621d9360fd",
   "metadata": {},
   "outputs": [
    {
     "name": "stdout",
     "output_type": "stream",
     "text": [
      "a=\n",
      "[[ 0  1  2  3  4  5  6  7  8  9]\n",
      " [10 11 12 13 14 15 16 17 18 19]]\n",
      "a[0, 2:7:1] = [2 3 4 5 6], a[0,2:7:1].shape = (5,), a 1D array\n",
      "a[:, 2:7:1] = [[ 2  3  4  5  6]\n",
      " [12 13 14 15 16]], a[:,2:7:1].shape = (2, 5), a 2D array\n",
      "a[:, :] = [[ 0  1  2  3  4  5  6  7  8  9]\n",
      " [10 11 12 13 14 15 16 17 18 19]], a[:,:].shape = (2, 10), a 2D array\n",
      "a[1, :] = [10 11 12 13 14 15 16 17 18 19], a[1,:].shape = (10,), a 1D array\n",
      "a[1] = [10 11 12 13 14 15 16 17 18 19], a[1].shape = (10,), a 1D array\n"
     ]
    }
   ],
   "source": [
    "# Matrices slicing operations\n",
    "\n",
    "a = np.arange(20).reshape(-1, 10)\n",
    "print(f\"a=\\n{a}\")\n",
    "\n",
    "# access 5 consecutive elements\n",
    "print(f\"a[0, 2:7:1] = {a[0, 2:7:1]}, a[0,2:7:1].shape = {a[0, 2:7:1].shape}, a 1D array\")\n",
    "# access 5 consecutive elements in all  rows\n",
    "print(f\"a[:, 2:7:1] = {a[:, 2:7:1]}, a[:,2:7:1].shape = {a[:, 2:7:1].shape}, a 2D array\")\n",
    "# access all elements\n",
    "print(f\"a[:, :] = {a[:, :]}, a[:,:].shape = {a[:, :].shape}, a 2D array\")\n",
    "\n",
    "# access all elements in one row (very common usage)\n",
    "print(f\"a[1, :] = {a[1, :]}, a[1,:].shape = {a[1, :].shape}, a 1D array\")\n",
    "# same as\n",
    "print(f\"a[1] = {a[1]}, a[1].shape = {a[1].shape}, a 1D array\")"
   ]
  },
  {
   "cell_type": "markdown",
   "id": "cb71a6ee-6fca-4ece-9340-4eef1589a77c",
   "metadata": {},
   "source": [
    "## End!"
   ]
  },
  {
   "cell_type": "code",
   "execution_count": null,
   "id": "5d02fbba-1272-4cce-9f5c-1a2fe1bd451e",
   "metadata": {},
   "outputs": [],
   "source": []
  }
 ],
 "metadata": {
  "kernelspec": {
   "display_name": "Python 3 (ipykernel)",
   "language": "python",
   "name": "python3"
  },
  "language_info": {
   "codemirror_mode": {
    "name": "ipython",
    "version": 3
   },
   "file_extension": ".py",
   "mimetype": "text/x-python",
   "name": "python",
   "nbconvert_exporter": "python",
   "pygments_lexer": "ipython3",
   "version": "3.11.5"
  }
 },
 "nbformat": 4,
 "nbformat_minor": 5
}
