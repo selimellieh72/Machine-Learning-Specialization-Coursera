{
 "cells": [
  {
   "cell_type": "markdown",
   "id": "7d1dc699-155d-4837-9389-4ed175d7ceab",
   "metadata": {},
   "source": [
    "# First Optional Lab\n",
    "This optional lab will help us learn:\n",
    "- Jupyter Notebooks\n",
    "- Markdown cell\n",
    "- Code Cell"
   ]
  },
  {
   "cell_type": "markdown",
   "id": "05eb1e8c-4cbe-4b05-b55e-89077999d803",
   "metadata": {},
   "source": [
    "<- This is a markdown cell, it is used, for mere documentation"
   ]
  },
  {
   "cell_type": "markdown",
   "id": "7429da2c-a34c-4bd7-b744-1dc91cad0344",
   "metadata": {},
   "source": [
    "This is also a markdown cell. But another type of cells is the one below, a code cell, used to run Python code:"
   ]
  },
  {
   "cell_type": "code",
   "execution_count": 1,
   "id": "d2d2147a-ed7d-4fea-8a0d-9ca993245ea9",
   "metadata": {},
   "outputs": [
    {
     "name": "stdout",
     "output_type": "stream",
     "text": [
      "Hello World\n"
     ]
    }
   ],
   "source": [
    "print(\"Hello World\")"
   ]
  },
  {
   "cell_type": "markdown",
   "id": "23161c75-b2bc-40dc-96ca-29406b6a3314",
   "metadata": {},
   "source": [
    "To run a code cell, either use the above run botton, or just click shift enter (not just enter)"
   ]
  },
  {
   "cell_type": "code",
   "execution_count": 2,
   "id": "3e367950-5517-4449-9e53-d7484f82b651",
   "metadata": {},
   "outputs": [
    {
     "name": "stdout",
     "output_type": "stream",
     "text": [
      "Hello Selim, how are you?\n"
     ]
    }
   ],
   "source": [
    "# This is an f-string, used to embed strings into other strings\n",
    "name = \"Selim\"\n",
    "string = f\"Hello {name}, how are you?\"\n",
    "print(string)"
   ]
  },
  {
   "cell_type": "code",
   "execution_count": null,
   "id": "a1c5ea27-4fa1-4246-8e57-b7941c6f0781",
   "metadata": {},
   "outputs": [],
   "source": []
  }
 ],
 "metadata": {
  "kernelspec": {
   "display_name": "Python 3 (ipykernel)",
   "language": "python",
   "name": "python3"
  },
  "language_info": {
   "codemirror_mode": {
    "name": "ipython",
    "version": 3
   },
   "file_extension": ".py",
   "mimetype": "text/x-python",
   "name": "python",
   "nbconvert_exporter": "python",
   "pygments_lexer": "ipython3",
   "version": "3.11.5"
  }
 },
 "nbformat": 4,
 "nbformat_minor": 5
}
