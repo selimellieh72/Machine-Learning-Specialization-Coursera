{
 "cells": [
  {
   "cell_type": "markdown",
   "id": "25abdb17-5c83-4375-8640-5bc312043d23",
   "metadata": {},
   "source": [
    "# Optional Lab: Model Representation\n",
    "## Goals\n",
    "Implement the model $f_{w,b}$ for **univariate** linear regression."
   ]
  },
  {
   "cell_type": "markdown",
   "id": "30868385-f9cf-49bb-a34c-5488a052348e",
   "metadata": {},
   "source": [
    "## Tools\n",
    "The tools are:\n",
    "- NumPy, a data science library\n",
    "- Matplotlib, a popular python library used to plot data"
   ]
  },
  {
   "cell_type": "code",
   "execution_count": 1,
   "id": "f440cf76-7c2d-40ec-b0ff-fe049fe1a21a",
   "metadata": {},
   "outputs": [],
   "source": [
    "# Import the numpy library and give it alias 'np'\n",
    "import numpy as np\n",
    "# Import the pyplot module from the matplotlib library (used to plot graphs and charts) and gives it alias 'plt'\n",
    "import matplotlib.pyplot as plt\n",
    "# Use matplotlib style to control color of lines, background of plot\n",
    "plt.style.use('./deeplearning.mplstyle')"
   ]
  },
  {
   "cell_type": "markdown",
   "id": "40265be2-596a-4551-b5c3-3ca8fbd2aff4",
   "metadata": {},
   "source": [
    "## Problem Task\n",
    "Given a simple data sets with only two data points - a house with size 1000 sqft sold for \\\\$300,000 and house with size 2000 sqft sold for \\\\$500,000- This will constitute our **training set**. The units of size in this problem will be 1000 sqft and 1000s of dollars. The **goal** is to fit a linear regression model through these two points to predict price for other house, such as a house with 1200 sqft."
   ]
  },
  {
   "cell_type": "markdown",
   "id": "010548b9-a3fe-43dc-a002-f914e57c01dd",
   "metadata": {},
   "source": [
    "The following code will create `x_train` and `y_train` variables to store the input variables and target variables respectively."
   ]
  },
  {
   "cell_type": "code",
   "execution_count": 2,
   "id": "59594878-996c-4d62-96b3-a044a0c881b0",
   "metadata": {},
   "outputs": [
    {
     "name": "stdout",
     "output_type": "stream",
     "text": [
      "x_train = [1. 2.]\n",
      "y_train = [300. 500.]\n"
     ]
    }
   ],
   "source": [
    "# x_train is the input variable (size in 1000s square feet)\n",
    "# y_train is the target (prize in 1000s of dollars)\n",
    "x_train = np.array([1.0, 2.0])\n",
    "y_train = np.array([300.0, 500.0])\n",
    "print(f\"x_train = {x_train}\")\n",
    "print(f\"y_train = {y_train}\")"
   ]
  },
  {
   "cell_type": "markdown",
   "id": "2dbd1db3-2446-408e-ba71-a3c40c02e1b0",
   "metadata": {},
   "source": [
    "### Retrieving the number of training examples\n",
    "Since `x_train` (`y_train` too btw) stores the feature variables, its shape or length will be the length of the training examples.\n",
    "Numpy arrays have a `.shape` attribute that returns a tuple that contains every dimension. `x_train.shape[0]` is the length of the input variable array, and hence, the number of training examples."
   ]
  },
  {
   "cell_type": "code",
   "execution_count": 3,
   "id": "5c9e2488-29f3-41aa-ad61-9c16e462b497",
   "metadata": {},
   "outputs": [
    {
     "name": "stdout",
     "output_type": "stream",
     "text": [
      "x_train.shape = (2,)\n",
      "Number of training examples = 2\n"
     ]
    }
   ],
   "source": [
    "# m will store the number of training examples\n",
    "print(f\"x_train.shape = {x_train.shape}\")\n",
    "m = x_train.shape[0]\n",
    "print(f\"Number of training examples = {m}\")"
   ]
  },
  {
   "cell_type": "markdown",
   "id": "74efad53-015d-40a9-8b02-3c546f4cedce",
   "metadata": {},
   "source": [
    "We can also use Python's builtin `len()` function, to retrieve the first dimension of the shape tuple."
   ]
  },
  {
   "cell_type": "code",
   "execution_count": 4,
   "id": "b2d6ff8e-2a29-4851-af1d-5c8073dc6a57",
   "metadata": {},
   "outputs": [
    {
     "name": "stdout",
     "output_type": "stream",
     "text": [
      "Number of training examples = 2\n"
     ]
    }
   ],
   "source": [
    "m = len(x_train)\n",
    "print(f\"Number of training examples = {m}\")"
   ]
  },
  {
   "cell_type": "markdown",
   "id": "349b24e4-0def-4e15-af1e-dc370239715a",
   "metadata": {},
   "source": [
    "### Retrieving training example `x_i, y_i`"
   ]
  },
  {
   "cell_type": "markdown",
   "id": "242d5bd0-9fc4-47f0-b8aa-566fbaf42ba4",
   "metadata": {},
   "source": [
    "You will use $x^i, y^i$ to note the ith training example.\n",
    "Note that Python is 0 indexed and we start at 0, so that $x^0, y^0 = 1, 300$.\n",
    "\n",
    "We can use indexing for numpy arrays too. For example the syntax to access index 0 of `x_train` use `x_train[0]`."
   ]
  },
  {
   "cell_type": "markdown",
   "id": "ae1b0895-3db7-436e-a5a0-a2ee2d596aac",
   "metadata": {},
   "source": [
    "i = 1 # Denote the ith training example\n",
    "\n",
    "# Retrieve feature variable for the ith training example\n",
    "x_i = x_train[i]\n",
    "# Retrieve target variable for the ith training example\n",
    "y_i = y_train[i]\n",
    "\n",
    "print(f\"x^{i}, y^{i} = {x_i}, {y_i}\")"
   ]
  },
  {
   "cell_type": "markdown",
   "id": "d4e3e842-4400-40e3-817e-de5c1dab5767",
   "metadata": {},
   "source": [
    "### Plotting the training data using matplotlib\n",
    "To plot points on two-axis, we can use the `scatter()` function in matplotlib. It takes two arrays **x**, **y**.\n",
    "- The function takes arguments `marker` and `c` to specify type of marker and color (ex. red crosses).\n",
    "\n",
    "We also use the following functions:\n",
    "- `title()`: to set the title of the entire graph\n",
    "- `xlabel()`: to set the label of the x axis\n",
    "- `ylabel()`: to set the label of the y axis\n",
    "Finally use, `show()` to properly show the plot."
   ]
  },
  {
   "cell_type": "code",
   "execution_count": 6,
   "id": "c53a7004-0ffe-4e31-b54c-fc09f2bc7e17",
   "metadata": {},
   "outputs": [
    {
     "data": {
      "image/png": "[encoded data removed]",
      "text/plain": [
       "<Figure size 640x480 with 1 Axes>"
      ]
     },
     "metadata": {},
     "output_type": "display_data"
    }
   ],
   "source": [
    "# Plot the data points\n",
    "plt.scatter(x_train, y_train, marker='x', c='r')\n",
    "# Set Graph title\n",
    "plt.title(\"Housing Prices\")\n",
    "# Set the x axis label\n",
    "plt.xlabel(\"Size (1000 sqft)\")\n",
    "# Set the y axis label\n",
    "plt.ylabel(\"Price (in 1000s of dollars\")\n",
    "# Show the plot\n",
    "plt.show()"
   ]
  },
  {
   "cell_type": "markdown",
   "id": "f925d631-0621-427d-9842-fd4bb91c69a7",
   "metadata": {},
   "source": [
    "## Model Function in Python\n"
   ]
  },
  {
   "cell_type": "markdown",
   "id": "4fd62b8f-735e-4a31-bf77-99fcb4767e73",
   "metadata": {},
   "source": [
    "The univariate linear regression model function, parameterized by `w` and `b` that maps from `x` to `y` is:\n",
    "$$ f_{w,b}(x^i) = w.x^i + b $$\n",
    "The formula above represents a straight line, different values of `w` and `b` gives different straight lines."
   ]
  },
  {
   "cell_type": "markdown",
   "id": "9c50fb63-fe45-48e5-a0d8-9a60f97cb75c",
   "metadata": {},
   "source": [
    "In the following code, we will fix `w` and `b`, and try to apply the function on the training data."
   ]
  },
  {
   "cell_type": "code",
   "execution_count": 15,
   "id": "c9f7acd5-ab66-4788-bc9d-ff751013bb4b",
   "metadata": {},
   "outputs": [
    {
     "name": "stdout",
     "output_type": "stream",
     "text": [
      "w = 200\n",
      "b = 100\n"
     ]
    }
   ],
   "source": [
    "w = 200\n",
    "b = 100\n",
    "print(f\"w = {w}\")\n",
    "print(f\"b = {b}\")"
   ]
  },
  {
   "cell_type": "markdown",
   "id": "43ab9b9c-901d-4935-a0fc-8673d72ac92b",
   "metadata": {},
   "source": [
    "Now we will create a function `compute_model_output(x, w, b)` that yields an array of predictions for each training example in **x** given by the model function parameterized by the given arguments `w` and `b`:\n",
    "> *Note*: `np.zero(shape)` will return an np-array with dimension `shape`."
   ]
  },
  {
   "cell_type": "code",
   "execution_count": 20,
   "id": "0a53b00a-0798-4bf7-a002-83c414bb4d48",
   "metadata": {},
   "outputs": [],
   "source": [
    "def compute_model_output(x, w, b):\n",
    "    \"\"\"\n",
    "    Returns a prediction array on the input array x, by appliying a linear model function,\n",
    "    parameterized by w and b.\n",
    "    Args:\n",
    "        x (ndarray (m,)): Data, m examples\n",
    "        w,b (scalar): model parameters\n",
    "    Returns\n",
    "        y (ndarray (m,)): prediction values of model\n",
    "    \"\"\"\n",
    "    m = x.shape[0]\n",
    "    f_wb = np.zeros(m)\n",
    "    for i in range(m):\n",
    "        f_wb[i] = w * x[i] + b\n",
    "\n",
    "    return f_wb"
   ]
  },
  {
   "cell_type": "markdown",
   "id": "5b39bd71-6a5d-4957-b306-f7cfa457b021",
   "metadata": {},
   "source": [
    "We can also implement a *vectorized* version of `compute_model_output(x,w,b)` which we will call `compute_model_output_vectorized(x, w, b)`."
   ]
  },
  {
   "cell_type": "code",
   "execution_count": 21,
   "id": "4b510d55-37b8-4a2d-bb24-fab857a310f0",
   "metadata": {},
   "outputs": [],
   "source": [
    "def compute_model_output_vectorized(x, w, b):\n",
    "    \"\"\"\n",
    "    Returns a prediction array on the input array x, by appliying a linear model function,\n",
    "    parameterized by w and b using a vectorized approach.\n",
    "    Args:\n",
    "        x (ndarray (m,)): Data, m examples\n",
    "        w,b (scalar): model parameters\n",
    "    Returns\n",
    "        y (ndarray (m,)): prediction values of model\n",
    "    \"\"\"\n",
    "    # We can multiply vectors and add scalars to them using vectorization!\n",
    "    f_wb = w * x + b\n",
    "\n",
    "    return f_wb"
   ]
  },
  {
   "cell_type": "markdown",
   "id": "c7b5ab3c-b897-4705-a159-43bf42a87312",
   "metadata": {},
   "source": [
    "Now, we will call `compute_model_output(x, w, b)` to compute predictions, and we will plot the 'fitted' straight line using another `plot()` function for straight lines (different then `scatter()` for seperate disconnected points). To add a *legend*, we can use the `label` argument to `plot()` and `scatter()` in addition to later calling the `legend()` method before the final `show()` method."
   ]
  },
  {
   "cell_type": "code",
   "execution_count": 24,
   "id": "567b0301-7289-457e-b3f6-3c7e19fc4df9",
   "metadata": {},
   "outputs": [
    {
     "data": {
      "image/png": "[encoded data removed]",
      "text/plain": [
       "<Figure size 640x480 with 1 Axes>"
      ]
     },
     "metadata": {},
     "output_type": "display_data"
    }
   ],
   "source": [
    "# Temporary predictions\n",
    "#tmp_f_wb = compute_model_output(x_train, w, b)\n",
    "tmp_f_wb = compute_model_output_vectorized(x_train, w, b)\n",
    "\n",
    "# Plot the model prediction\n",
    "plt.plot(x_train, tmp_f_wb, c=\"b\", label=\"Our predictions\")\n",
    "\n",
    "# Plot the data points\n",
    "plt.scatter(x_train, y_train, marker=\"x\", c=\"r\", label=\"Actual Values\")\n",
    "\n",
    "# Set the title\n",
    "plt.title(\"Housing prices\")\n",
    "\n",
    "# Set the x axis label\n",
    "plt.xlabel(\"Size (in 1000 sqft)\")\n",
    "\n",
    "# Set the y axis label\n",
    "plt.ylabel(\"Price (in 1000s of dollars\")\n",
    "\n",
    "# Add the legend\n",
    "plt.legend()\n",
    "\n",
    "# Show the plot\n",
    "plt.show()"
   ]
  },
  {
   "cell_type": "markdown",
   "id": "6f99e991-d749-4525-ac66-584d2d8ecdea",
   "metadata": {},
   "source": [
    "### Manual Training of Model\n",
    "Experiment with different `w` and `b` values. What are the values that make the straight line fit our data?\n"
   ]
  },
  {
   "cell_type": "markdown",
   "id": "bb78db5c-0e01-425f-9b65-d85342914a29",
   "metadata": {},
   "source": [
    "### Final Task: Predict the price of a house with 1200 square feet\n",
    "Now that we have 'fitted' a model, we can predice the price of new houses based on their size - say a house with size 1200 square feet."
   ]
  },
  {
   "cell_type": "code",
   "execution_count": 25,
   "id": "eb2c550b-561c-436f-b0c8-6bea44586f1e",
   "metadata": {},
   "outputs": [
    {
     "name": "stdout",
     "output_type": "stream",
     "text": [
      "340 thousand dollars\n"
     ]
    }
   ],
   "source": [
    "x_i = 1.2 # House of size 1200 square feet\n",
    "cost_1200sqft = w * x_i + b # Applying the model's function on this house\n",
    "print(f\"{cost_1200sqft:.0f} thousand dollars\")"
   ]
  },
  {
   "cell_type": "code",
   "execution_count": null,
   "id": "d5c26d87-4ab9-4d62-aec4-af0a2a0f3327",
   "metadata": {},
   "outputs": [],
   "source": []
  }
 ],
 "metadata": {
  "kernelspec": {
   "display_name": "Python 3 (ipykernel)",
   "language": "python",
   "name": "python3"
  },
  "language_info": {
   "codemirror_mode": {
    "name": "ipython",
    "version": 3
   },
   "file_extension": ".py",
   "mimetype": "text/x-python",
   "name": "python",
   "nbconvert_exporter": "python",
   "pygments_lexer": "ipython3",
   "version": "3.11.5"
  }
 },
 "nbformat": 4,
 "nbformat_minor": 5
}
